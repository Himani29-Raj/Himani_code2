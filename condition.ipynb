{
 "metadata": {
  "language_info": {
   "codemirror_mode": {
    "name": "ipython",
    "version": 3
   },
   "file_extension": ".py",
   "mimetype": "text/x-python",
   "name": "python",
   "nbconvert_exporter": "python",
   "pygments_lexer": "ipython3",
   "version": "3.9.1-final"
  },
  "orig_nbformat": 2,
  "kernelspec": {
   "name": "python3",
   "display_name": "Python 3.9.1 64-bit",
   "metadata": {
    "interpreter": {
     "hash": "43435a050d4ac362dc4b1b4851a0333547cf4819a4e47175b9a0f2919a9b0b1b"
    }
   }
  }
 },
 "nbformat": 4,
 "nbformat_minor": 2,
 "cells": [
  {
   "source": [
    "#conditions\n",
    "---\n",
    "if\n",
    "--\n",
    "if else\n",
    "--\n",
    "elif else\n",
    "--"
   ],
   "cell_type": "markdown",
   "metadata": {}
  },
  {
   "cell_type": "code",
   "execution_count": 4,
   "metadata": {},
   "outputs": [
    {
     "output_type": "stream",
     "name": "stdout",
     "text": [
      "it's even\n"
     ]
    }
   ],
   "source": [
    "if 10 % 2 == 0:\n",
    "    print(\"it's even\")"
   ]
  },
  {
   "source": [
    "basic if\n",
    "--"
   ],
   "cell_type": "markdown",
   "metadata": {}
  },
  {
   "cell_type": "code",
   "execution_count": 6,
   "metadata": {},
   "outputs": [
    {
     "output_type": "stream",
     "name": "stdout",
     "text": [
      "hurray\n"
     ]
    }
   ],
   "source": [
    "a = 120\n",
    "if a > 100:\n",
    "    print('hurray')"
   ]
  },
  {
   "cell_type": "code",
   "execution_count": 7,
   "metadata": {},
   "outputs": [],
   "source": [
    "if a == 121:\n",
    "    print('amazing')\n",
    "    print('this block wont run')"
   ]
  },
  {
   "cell_type": "code",
   "execution_count": 8,
   "metadata": {},
   "outputs": [
    {
     "output_type": "stream",
     "name": "stdout",
     "text": [
      "a is smallest\n"
     ]
    }
   ],
   "source": [
    "a = 10\n",
    "b = 20\n",
    "c = 30\n",
    "if a < b and a <c:\n",
    "    print('a is smallest')"
   ]
  },
  {
   "cell_type": "code",
   "execution_count": 10,
   "metadata": {},
   "outputs": [
    {
     "output_type": "stream",
     "name": "stdout",
     "text": [
      "welcome ben 10\n"
     ]
    }
   ],
   "source": [
    "username = input('enter username')\n",
    "password = input('enter password')\n",
    "if username == 'Ben' and password == 'himani20':\n",
    "    print('welcome ben 10')"
   ]
  },
  {
   "cell_type": "code",
   "execution_count": 11,
   "metadata": {},
   "outputs": [
    {
     "output_type": "stream",
     "name": "stdout",
     "text": [
      " you are an adult person\nyou are old too\n"
     ]
    }
   ],
   "source": [
    "age = 30\n",
    "if age > 25:\n",
    "    print(' you are an adult person')\n",
    "if age > 50:\n",
    "    print('you are an old person')\n",
    "if age == 30:\n",
    "    print('you are old too')"
   ]
  },
  {
   "source": [
    "Nested if\n",
    "--"
   ],
   "cell_type": "markdown",
   "metadata": {}
  },
  {
   "cell_type": "code",
   "execution_count": 12,
   "metadata": {},
   "outputs": [
    {
     "output_type": "stream",
     "name": "stdout",
     "text": [
      "you are welcome\n"
     ]
    }
   ],
   "source": [
    "firstname = 'Himani'\n",
    "lastname = 'Raj'\n",
    "if firstname.startswith('H'):\n",
    "    if lastname.startswith('R'):\n",
    "        print('you are welcome')\n",
    "     "
   ]
  },
  {
   "cell_type": "code",
   "execution_count": 13,
   "metadata": {},
   "outputs": [
    {
     "output_type": "stream",
     "name": "stdout",
     "text": [
      "you are the chosen one\n"
     ]
    }
   ],
   "source": [
    "fav_color = input('enter fav color')\n",
    "if fav_color in ['red','orange','yellow']:\n",
    "    fav_fruit = input(\"enter your fav fruit\")\n",
    "    if fav_fruit.startswith('o'):\n",
    "        print('you are the chosen one')"
   ]
  },
  {
   "cell_type": "code",
   "execution_count": 14,
   "metadata": {},
   "outputs": [
    {
     "output_type": "stream",
     "name": "stdout",
     "text": [
      "money: 700\n"
     ]
    }
   ],
   "source": [
    "pocketmoney = int(input('enter the pocketmoney'))\n",
    "if pocketmoney > 1000:\n",
    "    pocketmoney = pocketmoney - 500\n",
    "    if pocketmoney < 600:\n",
    "        pocketmoney = pocketmoney + 200\n",
    "    print('money:',pocketmoney)"
   ]
  },
  {
   "source": [
    "if else condition\n",
    "--"
   ],
   "cell_type": "markdown",
   "metadata": {}
  },
  {
   "cell_type": "code",
   "execution_count": 15,
   "metadata": {},
   "outputs": [
    {
     "output_type": "stream",
     "name": "stdout",
     "text": [
      "its true\n"
     ]
    }
   ],
   "source": [
    "a = 40\n",
    "if a>=30:\n",
    "    print('its true')\n",
    "else:\n",
    "        print('nothing true')"
   ]
  },
  {
   "cell_type": "code",
   "execution_count": 16,
   "metadata": {},
   "outputs": [
    {
     "output_type": "stream",
     "name": "stdout",
     "text": [
      "nothing true\n"
     ]
    }
   ],
   "source": [
    "a = 20\n",
    "if a>=30:\n",
    "    print('its true')\n",
    "else:\n",
    "        print('nothing true')"
   ]
  },
  {
   "cell_type": "code",
   "execution_count": 17,
   "metadata": {},
   "outputs": [
    {
     "output_type": "stream",
     "name": "stdout",
     "text": [
      "your name is constantly\n"
     ]
    }
   ],
   "source": [
    "nm = input('enter your name')\n",
    "if nm.startswith('a') or nm.startswith('e') or nm. startswith('i') or nm.startswith('o') or nm.startswith('u'):\n",
    "    print('your name is vowelly')\n",
    "else:\n",
    "    print('your name is constantly')"
   ]
  },
  {
   "source": [
    "\"in\" keyword\n",
    "---"
   ],
   "cell_type": "markdown",
   "metadata": {}
  },
  {
   "cell_type": "code",
   "execution_count": 18,
   "metadata": {},
   "outputs": [
    {
     "output_type": "stream",
     "name": "stdout",
     "text": [
      "True\n"
     ]
    }
   ],
   "source": [
    "string = 'the'\n",
    "if 'the' in string:\n",
    "    print(True)"
   ]
  },
  {
   "source": [
    "elif condition\n",
    "---"
   ],
   "cell_type": "markdown",
   "metadata": {}
  },
  {
   "cell_type": "code",
   "execution_count": 19,
   "metadata": {},
   "outputs": [
    {
     "output_type": "stream",
     "name": "stdout",
     "text": [
      "you won the prize\n"
     ]
    }
   ],
   "source": [
    "answer = 'naruto'\n",
    "question = 'who is the father of boruto'\n",
    "\n",
    "response = input(question)\n",
    "if response == answer:\n",
    "    print('you won the prize')\n",
    "elif response != 'sasuke':\n",
    "    print('you have not been reading the chapters')\n",
    "elif response == 'hinata':\n",
    "    print('you do not understand the question')\n",
    "else:\n",
    "    print('you gave  wrong answer')"
   ]
  },
  {
   "cell_type": "code",
   "execution_count": 20,
   "metadata": {},
   "outputs": [
    {
     "output_type": "stream",
     "name": "stdout",
     "text": [
      "today is very hot\n"
     ]
    }
   ],
   "source": [
    "temp = int(input('enter the temp in Celcius >> '))\n",
    "if temp > 25:\n",
    "    print('today is very hot')\n",
    "elif temp >15 and temp <=25:\n",
    "    print('the day is awesome')\n",
    "elif temp < 0:\n",
    "    print('today is extremely cold, bones are freezing')\n",
    "else:\n",
    "    print('the weather is ok')"
   ]
  },
  {
   "cell_type": "code",
   "execution_count": 21,
   "metadata": {},
   "outputs": [
    {
     "output_type": "stream",
     "name": "stdout",
     "text": [
      "your basic salary is : Rs. 100000\nyour actual salary is : Rs. 127000.0\n"
     ]
    }
   ],
   "source": [
    "# employee salary calculator\n",
    "basic = int(input('Enter the Emp BASIC salary:'))\n",
    "if basic > 50000:\n",
    "    hra = .10    # percent 10%\n",
    "    ta = .05\n",
    "    da = .12\n",
    "elif basic >25000 and basic <=50000:\n",
    "    hra = .13\n",
    "    ta = .07\n",
    "    da = .12\n",
    "elif basic > 10000 and basic <=25000:\n",
    "    hra = .15\n",
    "    ta = .07\n",
    "    da = .10\n",
    "else:\n",
    "    hra = .2\n",
    "    ta = .1\n",
    "    da = .7\n",
    "\n",
    "totalSal = basic + basic * hra + basic * da + basic * ta\n",
    "print('your basic salary is : Rs.', basic)\n",
    "print('your actual salary is : Rs.', totalSal)"
   ]
  },
  {
   "cell_type": "code",
   "execution_count": null,
   "metadata": {},
   "outputs": [],
   "source": []
  }
 ]
}